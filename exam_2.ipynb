{
  "nbformat": 4,
  "nbformat_minor": 0,
  "metadata": {
    "colab": {
      "provenance": []
    },
    "kernelspec": {
      "name": "python3",
      "display_name": "Python 3"
    },
    "language_info": {
      "name": "python"
    }
  },
  "cells": [
    {
      "cell_type": "code",
      "execution_count": null,
      "metadata": {
        "id": "QSfWCJSmt4yj"
      },
      "outputs": [],
      "source": []
    },
    {
      "cell_type": "markdown",
      "source": [
        "# Question 1 : What are semantic HTML elements? Why is using them important for web development?\n",
        "\n",
        "- Seamentic HTML element like header, nav, section, aside, footer tags are sementic elemnts. they are importent for accessibility for user with disabilities .\n",
        "sementic element importent for seo and maintainance or easily under stand and reading code!\n",
        "\n",
        "\n",
        "# Question 2: You're designing a blog page. Which semantic elements would you use to structure the page, and why?\n",
        "\n",
        "- i use (header, nav, main, article, section, aside, footer)  sementic elements\n",
        "for structure the page.\n",
        "\n",
        " **and why ?**\n",
        "\n",
        "   **Accessblity**  i use sementic elemnts accesblity  for screeen readers.\n",
        "\n",
        "   **Seo** for loding the better serch results.\n",
        "\n",
        "   **Readibility**   Sementic elements make the code more readible ans maintainable.\n",
        "\n",
        "\n",
        "# Question 3: How can you make an HTML form more accessible to users with disabilities?\n",
        "\n",
        "- make an HTML form more accessible to users with disabilities i use aria\n",
        "\n",
        "  attributes for provide extra information to the screen reader and any assistive\n",
        "\n",
        "  tecnologies for example. aria-label.\n",
        "  \n",
        "  and use sementic elements like label for name ,input type text for easy\n",
        "\n",
        "   accesblity for screen readers.\n",
        "\n",
        "  \n",
        "\n",
        "          \n"
      ],
      "metadata": {
        "id": "wUjN2-VYugk6"
      }
    },
    {
      "cell_type": "markdown",
      "source": [],
      "metadata": {
        "id": "vWF-gSfQLp6R"
      }
    },
    {
      "cell_type": "markdown",
      "source": [
        "# Question 4: Identify and correct the errors in the following CSS code:\n",
        "p {\n",
        " font-size: 16;\n",
        " color: #333\n",
        " margin-top 10px;\n",
        "}\n",
        "   \n",
        "   - p {\n",
        "\n",
        " font-size: 16px;\n",
        "\n",
        " color: #333;\n",
        "\n",
        " margin-top: 10px;\n",
        "\n",
        "}"
      ],
      "metadata": {
        "id": "Rv31hJGGLeIw"
      }
    },
    {
      "cell_type": "markdown",
      "source": [
        "# Question 5: Write CSS rules to style all <h2 elements inside a <section with a blue color and center alignment.\n",
        "\n",
        "- section h2{\n",
        "\n",
        "  color: blue;\n",
        "\n",
        "  text-align: center;\n",
        "\n",
        "  }\n"
      ],
      "metadata": {
        "id": "2KzevYs4FNm-"
      }
    },
    {
      "cell_type": "markdown",
      "source": [],
      "metadata": {
        "id": "xJNVNIaeFF5l"
      }
    },
    {
      "cell_type": "markdown",
      "source": [
        "# Question 6: Explain the CSS box model and its components.\n",
        "\n",
        " - css box model use for sea the web page structure and layout and how much dimentions and space is taking. like content, padding, border, margine.*\n",
        "\n",
        "  **content -->** it is inner part of box model erea.it dimetion controlle by height and width prpertie.\n",
        "\n",
        "  **padding -->** it is transparrent area and create a space between content and border.its controlled by padding property.\n",
        "\n",
        "  **border -->** it is a visible border area around the content and its control by border property.\n",
        "\n",
        "  **margine -->** it is the out side area of border and wrap the border,padding and content area.and its control by margine property."
      ],
      "metadata": {
        "id": "ZlmaA1AxXOiE"
      }
    },
    {
      "cell_type": "markdown",
      "source": [
        "# Question 7: How do the relative, absolute, and fixed positioning properties differ in CSS?\n",
        "\n",
        "- relative, absolute, and fixed positioning properties is differnt for behavior.\n",
        "\n",
        "***position relative  -->*** relative element still occupies is original space in the document. other content is not fill his position.when if moved using top, left, right, bottom property.\n",
        "\n",
        "\n",
        "***position absolute -->*** position element is not still occupies is\n",
        "         original space in the document.other elements will reflowas if it were not there. and if no have position ancestor exist it positions the element relative to the initial contain block.\n",
        "\n",
        "\n",
        "***position fixed  -->*** the element stay in the same place even when the page is scrolled make it use full for nav bar and buttons.\n",
        "\n",
        "\n",
        "# Question 8: Write a CSS rule to set a background image for a <div) with the class .banner, ensuring the image covers the entire area without repeating.\n",
        "\n",
        " - .banner{\n",
        "   \n",
        "    background-image: url(\"banner.jpg\");\n",
        "\n",
        "    background-size: cover;\n",
        "\n",
        "    background-position: center;\n",
        "\n",
        "    background-repeat: no-repeat;\n",
        "    \n",
        "    }\n",
        "\n"
      ],
      "metadata": {
        "id": "DXA72dN7XHXo"
      }
    },
    {
      "cell_type": "markdown",
      "source": [],
      "metadata": {
        "id": "ur6GA3tMssSO"
      }
    },
    {
      "cell_type": "code",
      "source": [],
      "metadata": {
        "id": "rO-8G1JzsdeP"
      },
      "execution_count": null,
      "outputs": []
    },
    {
      "cell_type": "markdown",
      "source": [],
      "metadata": {
        "id": "glDQdI1dXIjX"
      }
    },
    {
      "cell_type": "markdown",
      "source": [],
      "metadata": {
        "id": "OZlPT9pZufAu"
      }
    }
  ]
}